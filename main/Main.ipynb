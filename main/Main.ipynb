{
  "nbformat": 4,
  "nbformat_minor": 0,
  "metadata": {
    "colab": {
      "name": "Main.ipynb",
      "provenance": [],
      "authorship_tag": "ABX9TyOr/Wsiw1Qj+1bYpv7XawJR",
      "include_colab_link": true
    },
    "kernelspec": {
      "name": "python3",
      "display_name": "Python 3"
    },
    "language_info": {
      "name": "python"
    }
  },
  "cells": [
    {
      "cell_type": "markdown",
      "metadata": {
        "id": "view-in-github",
        "colab_type": "text"
      },
      "source": [
        "<a href=\"https://colab.research.google.com/github/maheshmistry/ProgrammT/blob/main/main/Main.ipynb\" target=\"_parent\"><img src=\"https://colab.research.google.com/assets/colab-badge.svg\" alt=\"Open In Colab\"/></a>"
      ]
    },
    {
      "cell_type": "code",
      "metadata": {
        "id": "_62Tf6EiB_Za"
      },
      "source": [
        "from rdflib import Graph, Literal, RDF, URIRef, Namespace\n",
        "from faker import Faker\n",
        "import pandas as pd\n",
        "import numpy as np\n",
        "import matplotlib.pylab as plt\n",
        "import random\n",
        "\n",
        "\n",
        "\n",
        "dbo = Namespace(\"http://dbpedia.org/ontology/\")\n",
        "TOnto = Namespace(\"http://visualdataweb.org/MCompanyTest/\")\n",
        "\n",
        "fake = Faker()\n",
        "g = Graph()\n",
        "\n",
        "g.bind(\"TOnto\", 'http://visualdataweb.org/MCompanyTest/')\n",
        "g.bind(\"dbo\", 'http://dbpedia.org/ontology/')\n",
        "\n",
        "g.parse(\"/content/ProgrammT/NewOntology.rdf\")"
      ],
      "execution_count": null,
      "outputs": []
    }
  ]
}