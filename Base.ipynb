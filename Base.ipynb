{
  "nbformat": 4,
  "nbformat_minor": 0,
  "metadata": {
    "kernelspec": {
      "display_name": "Python 3",
      "language": "python",
      "name": "python3"
    },
    "language_info": {
      "codemirror_mode": {
        "name": "ipython",
        "version": 3
      },
      "file_extension": ".py",
      "mimetype": "text/x-python",
      "name": "python",
      "nbconvert_exporter": "python",
      "pygments_lexer": "ipython3",
      "version": "3.7.4"
    },
    "colab": {
      "name": "Base.ipynb",
      "provenance": [],
      "collapsed_sections": [],
      "include_colab_link": true
    }
  },
  "cells": [
    {
      "cell_type": "markdown",
      "metadata": {
        "id": "view-in-github",
        "colab_type": "text"
      },
      "source": [
        "<a href=\"https://colab.research.google.com/github/maheshmistry/ProgrammT/blob/main/Base.ipynb\" target=\"_parent\"><img src=\"https://colab.research.google.com/assets/colab-badge.svg\" alt=\"Open In Colab\"/></a>"
      ]
    },
    {
      "cell_type": "code",
      "metadata": {
        "id": "smTetwZeXxFM",
        "colab": {
          "base_uri": "https://localhost:8080/"
        },
        "outputId": "8ae80fc6-f552-4173-ff7d-f606710f77b0"
      },
      "source": [
        "!pip install rdflib\n",
        "!pip install faker"
      ],
      "execution_count": null,
      "outputs": [
        {
          "output_type": "stream",
          "text": [
            "Requirement already satisfied: rdflib in /usr/local/lib/python3.6/dist-packages (5.0.0)\n",
            "Requirement already satisfied: six in /usr/local/lib/python3.6/dist-packages (from rdflib) (1.15.0)\n",
            "Requirement already satisfied: pyparsing in /usr/local/lib/python3.6/dist-packages (from rdflib) (2.4.7)\n",
            "Requirement already satisfied: isodate in /usr/local/lib/python3.6/dist-packages (from rdflib) (0.6.0)\n",
            "Requirement already satisfied: faker in /usr/local/lib/python3.6/dist-packages (4.14.2)\n",
            "Requirement already satisfied: python-dateutil>=2.4 in /usr/local/lib/python3.6/dist-packages (from faker) (2.8.1)\n",
            "Requirement already satisfied: text-unidecode==1.3 in /usr/local/lib/python3.6/dist-packages (from faker) (1.3)\n",
            "Requirement already satisfied: six>=1.5 in /usr/local/lib/python3.6/dist-packages (from python-dateutil>=2.4->faker) (1.15.0)\n"
          ],
          "name": "stdout"
        }
      ]
    },
    {
      "cell_type": "code",
      "metadata": {
        "id": "zBwaLGUAXWil"
      },
      "source": [
        "from rdflib import Graph, Literal, RDF, URIRef, Namespace\n",
        "from faker import Faker\n",
        "import pandas as pd\n",
        "import numpy as np\n",
        "import matplotlib.pylab as plt\n",
        "import random\n",
        "\n",
        "\n",
        "\n",
        "dbo = Namespace(\"http://dbpedia.org/ontology/\")\n",
        "TOnto = Namespace(\"http://visualdataweb.org/MCompanyTest/\")"
      ],
      "execution_count": null,
      "outputs": []
    },
    {
      "cell_type": "code",
      "metadata": {
        "id": "VVUv2G6DXWiq",
        "colab": {
          "base_uri": "https://localhost:8080/",
          "height": 357
        },
        "outputId": "3a3ffa4f-4968-433c-8ae0-fbdd37c833e5"
      },
      "source": [
        "fake = Faker()\n",
        "g = Graph()\n",
        "\n",
        "g.bind(\"TOnto\", 'http://visualdataweb.org/MCompanyTest/')\n",
        "g.bind(\"dbo\", 'http://dbpedia.org/ontology/')\n",
        "\n",
        "g.parse(\"/content/drive/My Drive/ColabNotebooks/NewOntology.rdf\")"
      ],
      "execution_count": null,
      "outputs": [
        {
          "output_type": "stream",
          "text": [
            "file:///content/drive/My Drive/ColabNotebooks/NewOntology.rdf does not look like a valid URI, trying to serialize this will break.\n"
          ],
          "name": "stderr"
        },
        {
          "output_type": "error",
          "ename": "FileNotFoundError",
          "evalue": "ignored",
          "traceback": [
            "\u001b[0;31m---------------------------------------------------------------------------\u001b[0m",
            "\u001b[0;31mFileNotFoundError\u001b[0m                         Traceback (most recent call last)",
            "\u001b[0;32m<ipython-input-6-c602b6579f82>\u001b[0m in \u001b[0;36m<module>\u001b[0;34m()\u001b[0m\n\u001b[1;32m      5\u001b[0m \u001b[0mg\u001b[0m\u001b[0;34m.\u001b[0m\u001b[0mbind\u001b[0m\u001b[0;34m(\u001b[0m\u001b[0;34m\"dbo\"\u001b[0m\u001b[0;34m,\u001b[0m \u001b[0;34m'http://dbpedia.org/ontology/'\u001b[0m\u001b[0;34m)\u001b[0m\u001b[0;34m\u001b[0m\u001b[0;34m\u001b[0m\u001b[0m\n\u001b[1;32m      6\u001b[0m \u001b[0;34m\u001b[0m\u001b[0m\n\u001b[0;32m----> 7\u001b[0;31m \u001b[0mg\u001b[0m\u001b[0;34m.\u001b[0m\u001b[0mparse\u001b[0m\u001b[0;34m(\u001b[0m\u001b[0;34m\"/content/drive/My Drive/ColabNotebooks/NewOntology.rdf\"\u001b[0m\u001b[0;34m)\u001b[0m\u001b[0;34m\u001b[0m\u001b[0;34m\u001b[0m\u001b[0m\n\u001b[0m",
            "\u001b[0;32m/usr/local/lib/python3.6/dist-packages/rdflib/graph.py\u001b[0m in \u001b[0;36mparse\u001b[0;34m(self, source, publicID, format, location, file, data, **args)\u001b[0m\n\u001b[1;32m   1066\u001b[0m             \u001b[0mfile\u001b[0m\u001b[0;34m=\u001b[0m\u001b[0mfile\u001b[0m\u001b[0;34m,\u001b[0m\u001b[0;34m\u001b[0m\u001b[0;34m\u001b[0m\u001b[0m\n\u001b[1;32m   1067\u001b[0m             \u001b[0mdata\u001b[0m\u001b[0;34m=\u001b[0m\u001b[0mdata\u001b[0m\u001b[0;34m,\u001b[0m\u001b[0;34m\u001b[0m\u001b[0;34m\u001b[0m\u001b[0m\n\u001b[0;32m-> 1068\u001b[0;31m             \u001b[0mformat\u001b[0m\u001b[0;34m=\u001b[0m\u001b[0mformat\u001b[0m\u001b[0;34m,\u001b[0m\u001b[0;34m\u001b[0m\u001b[0;34m\u001b[0m\u001b[0m\n\u001b[0m\u001b[1;32m   1069\u001b[0m         )\n\u001b[1;32m   1070\u001b[0m         \u001b[0;32mif\u001b[0m \u001b[0mformat\u001b[0m \u001b[0;32mis\u001b[0m \u001b[0;32mNone\u001b[0m\u001b[0;34m:\u001b[0m\u001b[0;34m\u001b[0m\u001b[0;34m\u001b[0m\u001b[0m\n",
            "\u001b[0;32m/usr/local/lib/python3.6/dist-packages/rdflib/parser.py\u001b[0m in \u001b[0;36mcreate_input_source\u001b[0;34m(source, publicID, location, file, data, format)\u001b[0m\n\u001b[1;32m    189\u001b[0m         \u001b[0;32mif\u001b[0m \u001b[0mabsolute_location\u001b[0m\u001b[0;34m.\u001b[0m\u001b[0mstartswith\u001b[0m\u001b[0;34m(\u001b[0m\u001b[0;34m\"file:///\"\u001b[0m\u001b[0;34m)\u001b[0m\u001b[0;34m:\u001b[0m\u001b[0;34m\u001b[0m\u001b[0;34m\u001b[0m\u001b[0m\n\u001b[1;32m    190\u001b[0m             \u001b[0mfilename\u001b[0m \u001b[0;34m=\u001b[0m \u001b[0murl2pathname\u001b[0m\u001b[0;34m(\u001b[0m\u001b[0mabsolute_location\u001b[0m\u001b[0;34m.\u001b[0m\u001b[0mreplace\u001b[0m\u001b[0;34m(\u001b[0m\u001b[0;34m\"file:///\"\u001b[0m\u001b[0;34m,\u001b[0m \u001b[0;34m\"/\"\u001b[0m\u001b[0;34m)\u001b[0m\u001b[0;34m)\u001b[0m\u001b[0;34m\u001b[0m\u001b[0;34m\u001b[0m\u001b[0m\n\u001b[0;32m--> 191\u001b[0;31m             \u001b[0mfile\u001b[0m \u001b[0;34m=\u001b[0m \u001b[0mopen\u001b[0m\u001b[0;34m(\u001b[0m\u001b[0mfilename\u001b[0m\u001b[0;34m,\u001b[0m \u001b[0;34m\"rb\"\u001b[0m\u001b[0;34m)\u001b[0m\u001b[0;34m\u001b[0m\u001b[0;34m\u001b[0m\u001b[0m\n\u001b[0m\u001b[1;32m    192\u001b[0m         \u001b[0;32melse\u001b[0m\u001b[0;34m:\u001b[0m\u001b[0;34m\u001b[0m\u001b[0;34m\u001b[0m\u001b[0m\n\u001b[1;32m    193\u001b[0m             \u001b[0minput_source\u001b[0m \u001b[0;34m=\u001b[0m \u001b[0mURLInputSource\u001b[0m\u001b[0;34m(\u001b[0m\u001b[0mabsolute_location\u001b[0m\u001b[0;34m,\u001b[0m \u001b[0mformat\u001b[0m\u001b[0;34m)\u001b[0m\u001b[0;34m\u001b[0m\u001b[0;34m\u001b[0m\u001b[0m\n",
            "\u001b[0;31mFileNotFoundError\u001b[0m: [Errno 2] No such file or directory: '/content/drive/My Drive/ColabNotebooks/NewOntology.rdf'"
          ]
        }
      ]
    },
    {
      "cell_type": "code",
      "metadata": {
        "id": "s9Os_y_1XWi5"
      },
      "source": [
        "qres = g.query(\n",
        "    \"\"\"SELECT ?s ?p ?o\n",
        "       WHERE {\n",
        "           ?s rdf:type TOnto:Company.\n",
        "           ?s ?p ?o.\n",
        "           filter (datatype(?o) != '')\n",
        "       }\"\"\")\n",
        "\n",
        "for row in qres:\n",
        "    print(\"%s -- %s -- %s\" % row)"
      ],
      "execution_count": null,
      "outputs": []
    },
    {
      "cell_type": "code",
      "metadata": {
        "id": "vypZ-SyaXWi9"
      },
      "source": [
        "enumb = g.query(\n",
        "    \"\"\"SELECT (AVG(?o) AS ?avg)\n",
        "       WHERE {\n",
        "           ?s rdf:type TOnto:Company.\n",
        "           ?s dbo:numberOfEmployees ?o.\n",
        "       }\"\"\")\n",
        "\n",
        "avgSal = g.query(\n",
        "    \"\"\"SELECT (AVG(?o) AS ?avg)\n",
        "       WHERE {\n",
        "           ?s rdf:type TOnto:Company.\n",
        "           ?s TOnto:avgSalary ?o.\n",
        "       }\"\"\")\n",
        "avgGenRat = g.query(\n",
        "    \"\"\"SELECT (AVG(?o) AS ?avg)\n",
        "       WHERE{\n",
        "          ?s rdf:type TOnto:Company.\n",
        "          ?s TOnto:genderRatio ?o.\n",
        "       }\"\"\"\n",
        ")\n",
        "\n",
        "for row in enumb:\n",
        "  emp = row.avg\n",
        "for row in avgSal:\n",
        "  avgSale = row.avg\n",
        "for row in avgGenRat:\n",
        "  avgGenRatio = row.avg\n",
        "\n",
        "emp = int(emp)\n",
        "avgSale = float(avgSale)\n"
      ],
      "execution_count": null,
      "outputs": []
    },
    {
      "cell_type": "code",
      "metadata": {
        "id": "LC3imFCKvTis"
      },
      "source": [
        "synthGender = np.random.choice([\"Male\", \"Female\"], emp, p=[(avgGenRatio.value/100), ((100-avgGenRatio.value)/100)])\n",
        "\n",
        "emp_roles = ['Engineer','Senior Engineer','Manager']\n",
        "company = pd.DataFrame([\n",
        "          {\n",
        "              \"FirstName\": fake.first_name_male() if synthGender[n]=='Male' else fake.first_name_female(),\n",
        "              \"LastName\": fake.last_name(),\n",
        "              \"Gender\" : synthGender[n],\n",
        "              \"Salary\" : random.randint(int(avgSale - (avgSale * .20)), int(avgSale + (avgSale * .20))),\n",
        "              \"Roles\" : \"CEO\" if n == 0 else np.random.choice(emp_roles, p=[0.6, 0.3, 0.1])\n",
        "          }for n in range(emp)\n",
        "])\n"
      ],
      "execution_count": null,
      "outputs": []
    },
    {
      "cell_type": "code",
      "metadata": {
        "id": "jpDr4-sUCrFB"
      },
      "source": [
        "genDist = (company['Gender'].value_counts(normalize=True) * 100)\n",
        "\n",
        "print(\"New Company stats:\"\n",
        "      \"\\n\\nNo. of Employees:\" , emp ,\n",
        "      \"\\n\\nGender Ratio(Male Percent):\\n\", genDist,\n",
        "      \"\\n\\nAverage Salary:\", sum(company[\"Salary\"])/emp,\n",
        "      \"\\n\\nRole Distribution:\\n\", company[\"Roles\"].value_counts())"
      ],
      "execution_count": null,
      "outputs": []
    },
    {
      "cell_type": "code",
      "metadata": {
        "id": "jVVtaWEbKnXE"
      },
      "source": [
        ""
      ],
      "execution_count": null,
      "outputs": []
    }
  ]
}